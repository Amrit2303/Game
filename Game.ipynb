{
 "cells": [
  {
   "cell_type": "code",
   "execution_count": 1,
   "metadata": {},
   "outputs": [],
   "source": [
    "import random"
   ]
  },
  {
   "cell_type": "code",
   "execution_count": 2,
   "metadata": {},
   "outputs": [],
   "source": [
    "print('Welcome to Snake, Water, Gun Game')"
   ]
  },
  {
   "cell_type": "code",
   "execution_count": 3,
   "metadata": {},
   "outputs": [],
   "source": [
    "list=['g','w','s']"
   ]
  },
  {
   "cell_type": "code",
   "execution_count": 4,
   "metadata": {},
   "outputs": [],
   "source": [
    "total_rounds=5"
   ]
  },
  {
   "cell_type": "code",
   "execution_count": 5,
   "metadata": {},
   "outputs": [],
   "source": [
    "round=0\n",
    "computer_score=0\n",
    "human_score=0"
   ]
  },
  {
   "cell_type": "code",
   "execution_count": 6,
   "metadata": {},
   "outputs": [
    {
     "name": "stdout",
     "output_type": "stream",
     "text": [
      "s for Snake \n",
      "w for Water \n",
      "g for Gun \n",
      "\n"
     ]
    }
   ],
   "source": [
    "print('s for Snake \\nw for Water \\ng for Gun \\n')"
   ]
  },
  {
   "cell_type": "code",
   "execution_count": 7,
   "metadata": {},
   "outputs": [
    {
     "name": "stdout",
     "output_type": "stream",
     "text": [
      "Snake,Water,Gun:\n",
      " s\n",
      "Computer wins 1 point \n",
      "\n",
      "Your choice is s & computer choice is g \n",
      "\n",
      "computer_point is 1 and your point is 0 \n",
      " \n",
      "Total chances left is 4\n",
      "Snake,Water,Gun:\n",
      " b\n",
      " Wrong input. Try Again /n\n",
      "Total chances left is 3\n",
      "Snake,Water,Gun:\n",
      " d\n",
      " Wrong input. Try Again /n\n",
      "Total chances left is 2\n",
      "Snake,Water,Gun:\n",
      " w\n",
      "Your choice is w & computer choice is g \n",
      "\n",
      "Computer wins 1 point \n",
      "\n",
      "computer_point is 2 and your point is 0 \n",
      " \n",
      "Total chances left is 1\n",
      "Snake,Water,Gun:\n",
      " g\n",
      "Your choice is g & computer choice is g \n",
      "\n",
      "Game tied.Both get 0 point each \n",
      "\n",
      "computer_point is 2 and your point is 0 \n",
      " \n",
      "Total chances left is 0\n",
      "Computer Wins\n",
      "Points of Human are 0  points of computer are  2\n"
     ]
    }
   ],
   "source": [
    "while round<total_rounds:\n",
    "    player_input=input('Snake,Water,Gun:\\n ')\n",
    "    computer_input=random.choice(list)\n",
    "    if player_input==computer_input:\n",
    "        print(f\"Your choice is {player_input} & computer choice is {computer_input} \\n\")\n",
    "        print('Game tied.Both get 0 point each \\n')\n",
    "        print(f\"computer_point is {computer_score} and your point is {human_score} \\n \")\n",
    "        \n",
    "    elif player_input=='s' and computer_input=='g':\n",
    "        print('Computer wins 1 point \\n')\n",
    "        print(f\"Your choice is {player_input} & computer choice is {computer_input} \\n\")\n",
    "        computer_score=computer_score+1\n",
    "        print(f\"computer_point is {computer_score} and your point is {human_score} \\n \")\n",
    "        \n",
    "    elif player_input=='s' and computer_input=='w':\n",
    "        print(f\"Your choice is {player_input} & computer choice is {computer_input} \\n\")\n",
    "        print('Player wins 1 point \\n')\n",
    "        human_score=human_score+1\n",
    "        print(f\"computer_point is {computer_score} and your point is {human_score} \\n \")\n",
    "    \n",
    "    elif player_input=='w' and computer_input=='g':\n",
    "        print(f\"Your choice is {player_input} & computer choice is {computer_input} \\n\")\n",
    "        print('Computer wins 1 point \\n')\n",
    "        computer_score=computer_score+1\n",
    "        print(f\"computer_point is {computer_score} and your point is {human_score} \\n \")\n",
    "    \n",
    "    elif player_input=='w' and computer_input=='s':\n",
    "        print(f\"Your choice is {player_input} & computer choice is {computer_input} \\n\")\n",
    "        print('Player wins 1 point \\n')\n",
    "        human_score=human_score+1\n",
    "        print(f\"computer_point is {computer_score} and your point is {human_score} \\n \")\n",
    "    \n",
    "    elif player_input=='g' and computer_input=='s':\n",
    "        print(f\"Your choice is {player_input} & computer choice is {computer_input} \\n\")\n",
    "        print('Player wins 1 point \\n')\n",
    "        human_score=human_score+1\n",
    "        print(f\"computer_point is {computer_score} and your point is {human_score} \\n \")\n",
    "    \n",
    "    elif player_input=='g' and computer_input=='w':\n",
    "        print(f\"Your choice is {player_input} & computer choice is {computer_input} \\n\")\n",
    "        print('Computer wins 1 point \\n')\n",
    "        computer_score=computer_score+1\n",
    "        print(f\"computer_point is {computer_score} and your point is {human_score} \\n \")\n",
    "        \n",
    "    else:\n",
    "        print(' Wrong input. Try Again /n')\n",
    "        \n",
    "    \n",
    "    round=round+1\n",
    "    print(f\"Total chances left is {total_rounds-round}\")\n",
    "    \n",
    "if computer_score==human_score:\n",
    "    print('Game tied')\n",
    "elif computer_score>human_score:\n",
    "    print('Computer Wins')\n",
    "else:\n",
    "    print('Human Wins')\n",
    "    \n",
    "print(f\"Points of Human are {human_score}  points of computer are  {computer_score}\")"
   ]
  },
  {
   "cell_type": "code",
   "execution_count": null,
   "metadata": {},
   "outputs": [],
   "source": []
  }
 ],
 "metadata": {
  "kernelspec": {
   "display_name": "Python 3",
   "language": "python",
   "name": "python3"
  },
  "language_info": {
   "codemirror_mode": {
    "name": "ipython",
    "version": 3
   },
   "file_extension": ".py",
   "mimetype": "text/x-python",
   "name": "python",
   "nbconvert_exporter": "python",
   "pygments_lexer": "ipython3",
   "version": "3.8.5"
  }
 },
 "nbformat": 4,
 "nbformat_minor": 4
}
